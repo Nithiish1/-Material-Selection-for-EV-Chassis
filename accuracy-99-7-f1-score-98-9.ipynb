{
 "cells": [
  {
   "cell_type": "code",
   "execution_count": 1,
   "id": "1e5c38bb",
   "metadata": {
    "_cell_guid": "b1076dfc-b9ad-4769-8c92-a6c4dae69d19",
    "_uuid": "8f2839f25d086af736a60e9eeb907d3b93b6e0e5",
    "execution": {
     "iopub.execute_input": "2025-02-07T19:39:03.841749Z",
     "iopub.status.busy": "2025-02-07T19:39:03.841238Z",
     "iopub.status.idle": "2025-02-07T19:39:04.840850Z",
     "shell.execute_reply": "2025-02-07T19:39:04.839357Z"
    },
    "papermill": {
     "duration": 1.009363,
     "end_time": "2025-02-07T19:39:04.842753",
     "exception": false,
     "start_time": "2025-02-07T19:39:03.833390",
     "status": "completed"
    },
    "tags": []
   },
   "outputs": [
    {
     "name": "stdout",
     "output_type": "stream",
     "text": [
      "/kaggle/input/materials/material.csv\n",
      "/kaggle/input/materials/Decision Tree.py\n",
      "/kaggle/input/materials/Data.csv\n",
      "/kaggle/input/materials/decision_tree.png\n"
     ]
    }
   ],
   "source": [
    "# This Python 3 environment comes with many helpful analytics libraries installed\n",
    "# It is defined by the kaggle/python Docker image: https://github.com/kaggle/docker-python\n",
    "# For example, here's several helpful packages to load\n",
    "\n",
    "import numpy as np # linear algebra\n",
    "import pandas as pd # data processing, CSV file I/O (e.g. pd.read_csv)\n",
    "\n",
    "# Input data files are available in the read-only \"../input/\" directory\n",
    "# For example, running this (by clicking run or pressing Shift+Enter) will list all files under the input directory\n",
    "\n",
    "import os\n",
    "for dirname, _, filenames in os.walk('/kaggle/input'):\n",
    "    for filename in filenames:\n",
    "        print(os.path.join(dirname, filename))\n",
    "\n",
    "# You can write up to 20GB to the current directory (/kaggle/working/) that gets preserved as output when you create a version using \"Save & Run All\" \n",
    "# You can also write temporary files to /kaggle/temp/, but they won't be saved outside of the current session"
   ]
  },
  {
   "cell_type": "code",
   "execution_count": 2,
   "id": "0bbe9655",
   "metadata": {
    "execution": {
     "iopub.execute_input": "2025-02-07T19:39:04.856467Z",
     "iopub.status.busy": "2025-02-07T19:39:04.856009Z",
     "iopub.status.idle": "2025-02-07T19:39:07.321408Z",
     "shell.execute_reply": "2025-02-07T19:39:07.320264Z"
    },
    "papermill": {
     "duration": 2.474265,
     "end_time": "2025-02-07T19:39:07.323395",
     "exception": false,
     "start_time": "2025-02-07T19:39:04.849130",
     "status": "completed"
    },
    "tags": []
   },
   "outputs": [],
   "source": [
    "import pandas as pd\n",
    "import seaborn as sns\n",
    "import matplotlib.pyplot as plt\n",
    "from sklearn.model_selection import train_test_split\n",
    "from sklearn.linear_model import LogisticRegression,SGDClassifier\n",
    "from sklearn.svm import SVC\n",
    "from sklearn.neighbors import KNeighborsClassifier\n",
    "from sklearn.tree import DecisionTreeClassifier\n",
    "from sklearn.ensemble import RandomForestClassifier , GradientBoostingClassifier,AdaBoostClassifier\n",
    "from sklearn.naive_bayes import GaussianNB, MultinomialNB, BernoulliNB\n",
    "from sklearn.metrics import accuracy_score,f1_score,recall_score,precision_score,precision_recall_curve,confusion_matrix,classification_report, roc_auc_score, precision_recall_curve, auc,roc_curve"
   ]
  },
  {
   "cell_type": "code",
   "execution_count": 3,
   "id": "fac3f17f",
   "metadata": {
    "execution": {
     "iopub.execute_input": "2025-02-07T19:39:07.336957Z",
     "iopub.status.busy": "2025-02-07T19:39:07.336418Z",
     "iopub.status.idle": "2025-02-07T19:39:07.388092Z",
     "shell.execute_reply": "2025-02-07T19:39:07.386897Z"
    },
    "papermill": {
     "duration": 0.06044,
     "end_time": "2025-02-07T19:39:07.390078",
     "exception": false,
     "start_time": "2025-02-07T19:39:07.329638",
     "status": "completed"
    },
    "tags": []
   },
   "outputs": [
    {
     "data": {
      "text/html": [
       "<div>\n",
       "<style scoped>\n",
       "    .dataframe tbody tr th:only-of-type {\n",
       "        vertical-align: middle;\n",
       "    }\n",
       "\n",
       "    .dataframe tbody tr th {\n",
       "        vertical-align: top;\n",
       "    }\n",
       "\n",
       "    .dataframe thead th {\n",
       "        text-align: right;\n",
       "    }\n",
       "</style>\n",
       "<table border=\"1\" class=\"dataframe\">\n",
       "  <thead>\n",
       "    <tr style=\"text-align: right;\">\n",
       "      <th></th>\n",
       "      <th>Material</th>\n",
       "      <th>Su</th>\n",
       "      <th>Sy</th>\n",
       "      <th>E</th>\n",
       "      <th>G</th>\n",
       "      <th>mu</th>\n",
       "      <th>Ro</th>\n",
       "      <th>Use</th>\n",
       "    </tr>\n",
       "  </thead>\n",
       "  <tbody>\n",
       "    <tr>\n",
       "      <th>0</th>\n",
       "      <td>ANSI Steel SAE 1015 as-rolled</td>\n",
       "      <td>421</td>\n",
       "      <td>314</td>\n",
       "      <td>207000</td>\n",
       "      <td>79000</td>\n",
       "      <td>0.3</td>\n",
       "      <td>7860</td>\n",
       "      <td>True</td>\n",
       "    </tr>\n",
       "    <tr>\n",
       "      <th>1</th>\n",
       "      <td>ANSI Steel SAE 1015 normalized</td>\n",
       "      <td>424</td>\n",
       "      <td>324</td>\n",
       "      <td>207000</td>\n",
       "      <td>79000</td>\n",
       "      <td>0.3</td>\n",
       "      <td>7860</td>\n",
       "      <td>True</td>\n",
       "    </tr>\n",
       "    <tr>\n",
       "      <th>2</th>\n",
       "      <td>ANSI Steel SAE 1015 annealed</td>\n",
       "      <td>386</td>\n",
       "      <td>284</td>\n",
       "      <td>207000</td>\n",
       "      <td>79000</td>\n",
       "      <td>0.3</td>\n",
       "      <td>7860</td>\n",
       "      <td>True</td>\n",
       "    </tr>\n",
       "    <tr>\n",
       "      <th>3</th>\n",
       "      <td>ANSI Steel SAE 1020 as-rolled</td>\n",
       "      <td>448</td>\n",
       "      <td>331</td>\n",
       "      <td>207000</td>\n",
       "      <td>79000</td>\n",
       "      <td>0.3</td>\n",
       "      <td>7860</td>\n",
       "      <td>True</td>\n",
       "    </tr>\n",
       "    <tr>\n",
       "      <th>4</th>\n",
       "      <td>ANSI Steel SAE 1020 normalized</td>\n",
       "      <td>441</td>\n",
       "      <td>346</td>\n",
       "      <td>207000</td>\n",
       "      <td>79000</td>\n",
       "      <td>0.3</td>\n",
       "      <td>7860</td>\n",
       "      <td>True</td>\n",
       "    </tr>\n",
       "  </tbody>\n",
       "</table>\n",
       "</div>"
      ],
      "text/plain": [
       "                         Material   Su   Sy       E      G   mu    Ro   Use\n",
       "0   ANSI Steel SAE 1015 as-rolled  421  314  207000  79000  0.3  7860  True\n",
       "1  ANSI Steel SAE 1015 normalized  424  324  207000  79000  0.3  7860  True\n",
       "2    ANSI Steel SAE 1015 annealed  386  284  207000  79000  0.3  7860  True\n",
       "3   ANSI Steel SAE 1020 as-rolled  448  331  207000  79000  0.3  7860  True\n",
       "4  ANSI Steel SAE 1020 normalized  441  346  207000  79000  0.3  7860  True"
      ]
     },
     "execution_count": 3,
     "metadata": {},
     "output_type": "execute_result"
    }
   ],
   "source": [
    "material_df=pd.read_csv(\"/kaggle/input/materials/material.csv\")\n",
    "material_df.head()"
   ]
  },
  {
   "cell_type": "code",
   "execution_count": 4,
   "id": "5e21175f",
   "metadata": {
    "execution": {
     "iopub.execute_input": "2025-02-07T19:39:07.403604Z",
     "iopub.status.busy": "2025-02-07T19:39:07.403206Z",
     "iopub.status.idle": "2025-02-07T19:39:07.429929Z",
     "shell.execute_reply": "2025-02-07T19:39:07.428783Z"
    },
    "papermill": {
     "duration": 0.035092,
     "end_time": "2025-02-07T19:39:07.431425",
     "exception": false,
     "start_time": "2025-02-07T19:39:07.396333",
     "status": "completed"
    },
    "tags": []
   },
   "outputs": [
    {
     "name": "stdout",
     "output_type": "stream",
     "text": [
      "<class 'pandas.core.frame.DataFrame'>\n",
      "RangeIndex: 1552 entries, 0 to 1551\n",
      "Data columns (total 8 columns):\n",
      " #   Column    Non-Null Count  Dtype  \n",
      "---  ------    --------------  -----  \n",
      " 0   Material  1552 non-null   object \n",
      " 1   Su        1552 non-null   int64  \n",
      " 2   Sy        1552 non-null   int64  \n",
      " 3   E         1552 non-null   int64  \n",
      " 4   G         1552 non-null   int64  \n",
      " 5   mu        1552 non-null   float64\n",
      " 6   Ro        1552 non-null   int64  \n",
      " 7   Use       1552 non-null   bool   \n",
      "dtypes: bool(1), float64(1), int64(5), object(1)\n",
      "memory usage: 86.5+ KB\n"
     ]
    }
   ],
   "source": [
    "material_df.info()"
   ]
  },
  {
   "cell_type": "code",
   "execution_count": 5,
   "id": "19f599d3",
   "metadata": {
    "execution": {
     "iopub.execute_input": "2025-02-07T19:39:07.445126Z",
     "iopub.status.busy": "2025-02-07T19:39:07.444765Z",
     "iopub.status.idle": "2025-02-07T19:39:07.451677Z",
     "shell.execute_reply": "2025-02-07T19:39:07.450612Z"
    },
    "papermill": {
     "duration": 0.015547,
     "end_time": "2025-02-07T19:39:07.453384",
     "exception": false,
     "start_time": "2025-02-07T19:39:07.437837",
     "status": "completed"
    },
    "tags": []
   },
   "outputs": [],
   "source": [
    "Y=material_df[\"Use\"]\n",
    "X=material_df.drop(columns=[\"Material\",\"Use\"])"
   ]
  },
  {
   "cell_type": "code",
   "execution_count": 6,
   "id": "20dc69a3",
   "metadata": {
    "execution": {
     "iopub.execute_input": "2025-02-07T19:39:07.466947Z",
     "iopub.status.busy": "2025-02-07T19:39:07.466564Z",
     "iopub.status.idle": "2025-02-07T19:39:07.471396Z",
     "shell.execute_reply": "2025-02-07T19:39:07.470141Z"
    },
    "papermill": {
     "duration": 0.013493,
     "end_time": "2025-02-07T19:39:07.473150",
     "exception": false,
     "start_time": "2025-02-07T19:39:07.459657",
     "status": "completed"
    },
    "tags": []
   },
   "outputs": [],
   "source": [
    "Y=Y.astype('int')"
   ]
  },
  {
   "cell_type": "code",
   "execution_count": 7,
   "id": "3de1880e",
   "metadata": {
    "execution": {
     "iopub.execute_input": "2025-02-07T19:39:07.486936Z",
     "iopub.status.busy": "2025-02-07T19:39:07.486486Z",
     "iopub.status.idle": "2025-02-07T19:39:07.741825Z",
     "shell.execute_reply": "2025-02-07T19:39:07.740677Z"
    },
    "papermill": {
     "duration": 0.264109,
     "end_time": "2025-02-07T19:39:07.743665",
     "exception": false,
     "start_time": "2025-02-07T19:39:07.479556",
     "status": "completed"
    },
    "tags": []
   },
   "outputs": [
    {
     "data": {
      "text/plain": [
       "<Axes: xlabel='Use', ylabel='count'>"
      ]
     },
     "execution_count": 7,
     "metadata": {},
     "output_type": "execute_result"
    },
    {
     "data": {
      "image/png": "[encoded data removed]",
      "text/plain": [
       "<Figure size 640x480 with 1 Axes>"
      ]
     },
     "metadata": {},
     "output_type": "display_data"
    }
   ],
   "source": [
    "sns.countplot(data=material_df,x='Use')"
   ]
  },
  {
   "cell_type": "markdown",
   "id": "d0425e08",
   "metadata": {
    "papermill": {
     "duration": 0.006991,
     "end_time": "2025-02-07T19:39:07.760847",
     "exception": false,
     "start_time": "2025-02-07T19:39:07.753856",
     "status": "completed"
    },
    "tags": []
   },
   "source": [
    "as we can see that the problem is imbalace class , so we mainly focusing on improving f1-score instead of accuracy"
   ]
  },
  {
   "cell_type": "code",
   "execution_count": 8,
   "id": "be6cf98d",
   "metadata": {
    "execution": {
     "iopub.execute_input": "2025-02-07T19:39:07.775989Z",
     "iopub.status.busy": "2025-02-07T19:39:07.775576Z",
     "iopub.status.idle": "2025-02-07T19:39:07.782777Z",
     "shell.execute_reply": "2025-02-07T19:39:07.781833Z"
    },
    "papermill": {
     "duration": 0.016531,
     "end_time": "2025-02-07T19:39:07.784564",
     "exception": false,
     "start_time": "2025-02-07T19:39:07.768033",
     "status": "completed"
    },
    "tags": []
   },
   "outputs": [],
   "source": [
    "X_train,X_test,Y_train,Y_test=train_test_split(X,Y ,test_size=0.30,random_state=0)"
   ]
  },
  {
   "cell_type": "code",
   "execution_count": 9,
   "id": "1e3f12b7",
   "metadata": {
    "execution": {
     "iopub.execute_input": "2025-02-07T19:39:07.799247Z",
     "iopub.status.busy": "2025-02-07T19:39:07.798908Z",
     "iopub.status.idle": "2025-02-07T19:39:07.803996Z",
     "shell.execute_reply": "2025-02-07T19:39:07.802970Z"
    },
    "papermill": {
     "duration": 0.014422,
     "end_time": "2025-02-07T19:39:07.805685",
     "exception": false,
     "start_time": "2025-02-07T19:39:07.791263",
     "status": "completed"
    },
    "tags": []
   },
   "outputs": [],
   "source": [
    "lg=LogisticRegression()\n",
    "sgd=SGDClassifier()\n",
    "svc=SVC()\n",
    "dt=DecisionTreeClassifier()\n",
    "rf=RandomForestClassifier()\n",
    "knn=KNeighborsClassifier()\n",
    "gbc=GradientBoostingClassifier()\n",
    "abc=AdaBoostClassifier()\n",
    "gnb=GaussianNB()"
   ]
  },
  {
   "cell_type": "code",
   "execution_count": 10,
   "id": "c5731e99",
   "metadata": {
    "execution": {
     "iopub.execute_input": "2025-02-07T19:39:07.820241Z",
     "iopub.status.busy": "2025-02-07T19:39:07.819896Z",
     "iopub.status.idle": "2025-02-07T19:39:07.824266Z",
     "shell.execute_reply": "2025-02-07T19:39:07.823053Z"
    },
    "papermill": {
     "duration": 0.013561,
     "end_time": "2025-02-07T19:39:07.826038",
     "exception": false,
     "start_time": "2025-02-07T19:39:07.812477",
     "status": "completed"
    },
    "tags": []
   },
   "outputs": [],
   "source": [
    "model=[lg,sgd,svc,dt,rf,knn,gbc,abc,gnb]"
   ]
  },
  {
   "cell_type": "code",
   "execution_count": 11,
   "id": "a7cbf7f8",
   "metadata": {
    "execution": {
     "iopub.execute_input": "2025-02-07T19:39:07.841038Z",
     "iopub.status.busy": "2025-02-07T19:39:07.840688Z",
     "iopub.status.idle": "2025-02-07T19:39:08.570885Z",
     "shell.execute_reply": "2025-02-07T19:39:08.569681Z"
    },
    "papermill": {
     "duration": 0.740322,
     "end_time": "2025-02-07T19:39:08.572988",
     "exception": false,
     "start_time": "2025-02-07T19:39:07.832666",
     "status": "completed"
    },
    "tags": []
   },
   "outputs": [],
   "source": [
    "model_name=[]\n",
    "train_score=[]\n",
    "test_score=[]\n",
    "f1=[]\n",
    "for k in model:\n",
    "    k.fit(X_train,Y_train)\n",
    "    t_score=k.score(X_train,Y_train)\n",
    "    pred=k.predict(X_test)\n",
    "    ts=accuracy_score(pred,Y_test)\n",
    "    model_name.append(k)\n",
    "    train_score.append(t_score)\n",
    "    test_score.append(ts)\n",
    "    f1.append(f1_score(pred,Y_test))"
   ]
  },
  {
   "cell_type": "code",
   "execution_count": 12,
   "id": "c08815d4",
   "metadata": {
    "execution": {
     "iopub.execute_input": "2025-02-07T19:39:08.592033Z",
     "iopub.status.busy": "2025-02-07T19:39:08.591484Z",
     "iopub.status.idle": "2025-02-07T19:39:08.602232Z",
     "shell.execute_reply": "2025-02-07T19:39:08.601060Z"
    },
    "papermill": {
     "duration": 0.024272,
     "end_time": "2025-02-07T19:39:08.604506",
     "exception": false,
     "start_time": "2025-02-07T19:39:08.580234",
     "status": "completed"
    },
    "tags": []
   },
   "outputs": [],
   "source": [
    "df=pd.DataFrame()\n",
    "df['model']=model_name\n",
    "df['train']=train_score\n",
    "df['test']=test_score\n",
    "df['f1_score']=f1"
   ]
  },
  {
   "cell_type": "code",
   "execution_count": 13,
   "id": "f4c29794",
   "metadata": {
    "execution": {
     "iopub.execute_input": "2025-02-07T19:39:08.625775Z",
     "iopub.status.busy": "2025-02-07T19:39:08.625266Z",
     "iopub.status.idle": "2025-02-07T19:39:08.775715Z",
     "shell.execute_reply": "2025-02-07T19:39:08.774684Z"
    },
    "papermill": {
     "duration": 0.161845,
     "end_time": "2025-02-07T19:39:08.777447",
     "exception": false,
     "start_time": "2025-02-07T19:39:08.615602",
     "status": "completed"
    },
    "tags": []
   },
   "outputs": [
    {
     "data": {
      "text/html": [
       "<div>\n",
       "<style scoped>\n",
       "    .dataframe tbody tr th:only-of-type {\n",
       "        vertical-align: middle;\n",
       "    }\n",
       "\n",
       "    .dataframe tbody tr th {\n",
       "        vertical-align: top;\n",
       "    }\n",
       "\n",
       "    .dataframe thead th {\n",
       "        text-align: right;\n",
       "    }\n",
       "</style>\n",
       "<table border=\"1\" class=\"dataframe\">\n",
       "  <thead>\n",
       "    <tr style=\"text-align: right;\">\n",
       "      <th></th>\n",
       "      <th>model</th>\n",
       "      <th>train</th>\n",
       "      <th>test</th>\n",
       "      <th>f1_score</th>\n",
       "    </tr>\n",
       "  </thead>\n",
       "  <tbody>\n",
       "    <tr>\n",
       "      <th>0</th>\n",
       "      <td>LogisticRegression()</td>\n",
       "      <td>0.864641</td>\n",
       "      <td>0.854077</td>\n",
       "      <td>0.028571</td>\n",
       "    </tr>\n",
       "    <tr>\n",
       "      <th>1</th>\n",
       "      <td>SGDClassifier()</td>\n",
       "      <td>0.917127</td>\n",
       "      <td>0.903433</td>\n",
       "      <td>0.000000</td>\n",
       "    </tr>\n",
       "    <tr>\n",
       "      <th>2</th>\n",
       "      <td>SVC()</td>\n",
       "      <td>0.917127</td>\n",
       "      <td>0.903433</td>\n",
       "      <td>0.000000</td>\n",
       "    </tr>\n",
       "    <tr>\n",
       "      <th>3</th>\n",
       "      <td>DecisionTreeClassifier()</td>\n",
       "      <td>1.000000</td>\n",
       "      <td>0.997854</td>\n",
       "      <td>0.989011</td>\n",
       "    </tr>\n",
       "    <tr>\n",
       "      <th>4</th>\n",
       "      <td>(DecisionTreeClassifier(max_features='sqrt', r...</td>\n",
       "      <td>1.000000</td>\n",
       "      <td>0.997854</td>\n",
       "      <td>0.989011</td>\n",
       "    </tr>\n",
       "    <tr>\n",
       "      <th>5</th>\n",
       "      <td>KNeighborsClassifier()</td>\n",
       "      <td>0.983425</td>\n",
       "      <td>0.967811</td>\n",
       "      <td>0.845361</td>\n",
       "    </tr>\n",
       "    <tr>\n",
       "      <th>6</th>\n",
       "      <td>([DecisionTreeRegressor(criterion='friedman_ms...</td>\n",
       "      <td>1.000000</td>\n",
       "      <td>0.997854</td>\n",
       "      <td>0.989011</td>\n",
       "    </tr>\n",
       "    <tr>\n",
       "      <th>7</th>\n",
       "      <td>(DecisionTreeClassifier(max_depth=1, random_st...</td>\n",
       "      <td>1.000000</td>\n",
       "      <td>0.997854</td>\n",
       "      <td>0.989011</td>\n",
       "    </tr>\n",
       "    <tr>\n",
       "      <th>8</th>\n",
       "      <td>GaussianNB()</td>\n",
       "      <td>0.831492</td>\n",
       "      <td>0.866953</td>\n",
       "      <td>0.592105</td>\n",
       "    </tr>\n",
       "  </tbody>\n",
       "</table>\n",
       "</div>"
      ],
      "text/plain": [
       "                                               model     train      test  \\\n",
       "0                               LogisticRegression()  0.864641  0.854077   \n",
       "1                                    SGDClassifier()  0.917127  0.903433   \n",
       "2                                              SVC()  0.917127  0.903433   \n",
       "3                           DecisionTreeClassifier()  1.000000  0.997854   \n",
       "4  (DecisionTreeClassifier(max_features='sqrt', r...  1.000000  0.997854   \n",
       "5                             KNeighborsClassifier()  0.983425  0.967811   \n",
       "6  ([DecisionTreeRegressor(criterion='friedman_ms...  1.000000  0.997854   \n",
       "7  (DecisionTreeClassifier(max_depth=1, random_st...  1.000000  0.997854   \n",
       "8                                       GaussianNB()  0.831492  0.866953   \n",
       "\n",
       "   f1_score  \n",
       "0  0.028571  \n",
       "1  0.000000  \n",
       "2  0.000000  \n",
       "3  0.989011  \n",
       "4  0.989011  \n",
       "5  0.845361  \n",
       "6  0.989011  \n",
       "7  0.989011  \n",
       "8  0.592105  "
      ]
     },
     "execution_count": 13,
     "metadata": {},
     "output_type": "execute_result"
    }
   ],
   "source": [
    "df"
   ]
  },
  {
   "cell_type": "markdown",
   "id": "abb08abd",
   "metadata": {
    "papermill": {
     "duration": 0.006656,
     "end_time": "2025-02-07T19:39:08.790932",
     "exception": false,
     "start_time": "2025-02-07T19:39:08.784276",
     "status": "completed"
    },
    "tags": []
   },
   "source": [
    "As we can see that Gradient boost classification giving the train accuracy **100%** and test accuracy **99.97%** which is not the case of overfitting, and we also got the f1-score **98.98%** which is too good \n",
    "\n",
    "So we are proceeding with Gradient boost classification"
   ]
  },
  {
   "cell_type": "code",
   "execution_count": 14,
   "id": "d2cf44fe",
   "metadata": {
    "execution": {
     "iopub.execute_input": "2025-02-07T19:39:08.805504Z",
     "iopub.status.busy": "2025-02-07T19:39:08.805150Z",
     "iopub.status.idle": "2025-02-07T19:39:08.812595Z",
     "shell.execute_reply": "2025-02-07T19:39:08.811459Z"
    },
    "papermill": {
     "duration": 0.016742,
     "end_time": "2025-02-07T19:39:08.814379",
     "exception": false,
     "start_time": "2025-02-07T19:39:08.797637",
     "status": "completed"
    },
    "tags": []
   },
   "outputs": [],
   "source": [
    "pred=gbc.predict(X_test)"
   ]
  },
  {
   "cell_type": "code",
   "execution_count": 15,
   "id": "27a9d828",
   "metadata": {
    "execution": {
     "iopub.execute_input": "2025-02-07T19:39:08.829433Z",
     "iopub.status.busy": "2025-02-07T19:39:08.829089Z",
     "iopub.status.idle": "2025-02-07T19:39:08.842493Z",
     "shell.execute_reply": "2025-02-07T19:39:08.841152Z"
    },
    "papermill": {
     "duration": 0.023066,
     "end_time": "2025-02-07T19:39:08.844248",
     "exception": false,
     "start_time": "2025-02-07T19:39:08.821182",
     "status": "completed"
    },
    "tags": []
   },
   "outputs": [
    {
     "name": "stdout",
     "output_type": "stream",
     "text": [
      "              precision    recall  f1-score   support\n",
      "\n",
      "           0       1.00      1.00      1.00       421\n",
      "           1       0.98      1.00      0.99        45\n",
      "\n",
      "    accuracy                           1.00       466\n",
      "   macro avg       0.99      1.00      0.99       466\n",
      "weighted avg       1.00      1.00      1.00       466\n",
      "\n"
     ]
    }
   ],
   "source": [
    "print(classification_report(Y_test,pred))"
   ]
  },
  {
   "cell_type": "code",
   "execution_count": 16,
   "id": "9203d68b",
   "metadata": {
    "execution": {
     "iopub.execute_input": "2025-02-07T19:39:08.859060Z",
     "iopub.status.busy": "2025-02-07T19:39:08.858674Z",
     "iopub.status.idle": "2025-02-07T19:39:08.867388Z",
     "shell.execute_reply": "2025-02-07T19:39:08.866420Z"
    },
    "papermill": {
     "duration": 0.017904,
     "end_time": "2025-02-07T19:39:08.868945",
     "exception": false,
     "start_time": "2025-02-07T19:39:08.851041",
     "status": "completed"
    },
    "tags": []
   },
   "outputs": [
    {
     "data": {
      "text/plain": [
       "array([[420,   1],\n",
       "       [  0,  45]])"
      ]
     },
     "execution_count": 16,
     "metadata": {},
     "output_type": "execute_result"
    }
   ],
   "source": [
    "confusion_matrix(Y_test,pred)"
   ]
  },
  {
   "cell_type": "code",
   "execution_count": 17,
   "id": "8ab16cb6",
   "metadata": {
    "execution": {
     "iopub.execute_input": "2025-02-07T19:39:08.883565Z",
     "iopub.status.busy": "2025-02-07T19:39:08.883199Z",
     "iopub.status.idle": "2025-02-07T19:39:08.896465Z",
     "shell.execute_reply": "2025-02-07T19:39:08.895464Z"
    },
    "papermill": {
     "duration": 0.022622,
     "end_time": "2025-02-07T19:39:08.898328",
     "exception": false,
     "start_time": "2025-02-07T19:39:08.875706",
     "status": "completed"
    },
    "tags": []
   },
   "outputs": [],
   "source": [
    "# Compute ROC values\n",
    "fpr, tpr, _ = roc_curve(Y_test,pred)\n",
    "roc_auc = roc_auc_score(Y_test,pred)  # ROC AUC score"
   ]
  },
  {
   "cell_type": "code",
   "execution_count": 18,
   "id": "c0e11734",
   "metadata": {
    "execution": {
     "iopub.execute_input": "2025-02-07T19:39:08.913234Z",
     "iopub.status.busy": "2025-02-07T19:39:08.912876Z",
     "iopub.status.idle": "2025-02-07T19:39:09.097623Z",
     "shell.execute_reply": "2025-02-07T19:39:09.096386Z"
    },
    "papermill": {
     "duration": 0.194137,
     "end_time": "2025-02-07T19:39:09.099399",
     "exception": false,
     "start_time": "2025-02-07T19:39:08.905262",
     "status": "completed"
    },
    "tags": []
   },
   "outputs": [
    {
     "data": {
      "image/png": "[encoded data removed]",
      "text/plain": [
       "<Figure size 640x480 with 1 Axes>"
      ]
     },
     "metadata": {},
     "output_type": "display_data"
    }
   ],
   "source": [
    "plt.plot(fpr, tpr, marker='.', label=f'ROC AUC = {roc_auc:.2f}', color='r')\n",
    "plt.plot([0, 1], [0, 1], linestyle='--', color='gray')  # Random classifier line\n",
    "plt.xlabel('False Positive Rate (FPR)')\n",
    "plt.ylabel('True Positive Rate (TPR)')\n",
    "plt.title('ROC Curve')\n",
    "plt.show()"
   ]
  },
  {
   "cell_type": "markdown",
   "id": "5620a3fe",
   "metadata": {
    "papermill": {
     "duration": 0.007509,
     "end_time": "2025-02-07T19:39:09.114666",
     "exception": false,
     "start_time": "2025-02-07T19:39:09.107157",
     "status": "completed"
    },
    "tags": []
   },
   "source": [
    "as we can see that curve is too ideal output"
   ]
  },
  {
   "cell_type": "code",
   "execution_count": 19,
   "id": "688ac510",
   "metadata": {
    "execution": {
     "iopub.execute_input": "2025-02-07T19:39:09.131257Z",
     "iopub.status.busy": "2025-02-07T19:39:09.130886Z",
     "iopub.status.idle": "2025-02-07T19:39:09.139609Z",
     "shell.execute_reply": "2025-02-07T19:39:09.138221Z"
    },
    "papermill": {
     "duration": 0.01925,
     "end_time": "2025-02-07T19:39:09.141427",
     "exception": false,
     "start_time": "2025-02-07T19:39:09.122177",
     "status": "completed"
    },
    "tags": []
   },
   "outputs": [
    {
     "name": "stdout",
     "output_type": "stream",
     "text": [
      "ROC-AUC Score: 0.9891304347826086\n"
     ]
    }
   ],
   "source": [
    "# ROC-AUC Score\n",
    "roc_auc = roc_auc_score(pred,Y_test)\n",
    "print(\"ROC-AUC Score:\", roc_auc)"
   ]
  },
  {
   "cell_type": "code",
   "execution_count": 20,
   "id": "4d24038e",
   "metadata": {
    "execution": {
     "iopub.execute_input": "2025-02-07T19:39:09.157951Z",
     "iopub.status.busy": "2025-02-07T19:39:09.157499Z",
     "iopub.status.idle": "2025-02-07T19:39:09.166969Z",
     "shell.execute_reply": "2025-02-07T19:39:09.165765Z"
    },
    "papermill": {
     "duration": 0.019985,
     "end_time": "2025-02-07T19:39:09.169038",
     "exception": false,
     "start_time": "2025-02-07T19:39:09.149053",
     "status": "completed"
    },
    "tags": []
   },
   "outputs": [
    {
     "data": {
      "text/plain": [
       "0.9782608695652174"
      ]
     },
     "execution_count": 20,
     "metadata": {},
     "output_type": "execute_result"
    }
   ],
   "source": [
    "precision_score(Y_test,pred)"
   ]
  },
  {
   "cell_type": "code",
   "execution_count": 21,
   "id": "d88dfca1",
   "metadata": {
    "execution": {
     "iopub.execute_input": "2025-02-07T19:39:09.186016Z",
     "iopub.status.busy": "2025-02-07T19:39:09.185612Z",
     "iopub.status.idle": "2025-02-07T19:39:09.195263Z",
     "shell.execute_reply": "2025-02-07T19:39:09.194148Z"
    },
    "papermill": {
     "duration": 0.020131,
     "end_time": "2025-02-07T19:39:09.197055",
     "exception": false,
     "start_time": "2025-02-07T19:39:09.176924",
     "status": "completed"
    },
    "tags": []
   },
   "outputs": [
    {
     "data": {
      "text/plain": [
       "1.0"
      ]
     },
     "execution_count": 21,
     "metadata": {},
     "output_type": "execute_result"
    }
   ],
   "source": [
    "recall_score(Y_test,pred)"
   ]
  },
  {
   "cell_type": "markdown",
   "id": "9c1dfb04",
   "metadata": {
    "papermill": {
     "duration": 0.00751,
     "end_time": "2025-02-07T19:39:09.212664",
     "exception": false,
     "start_time": "2025-02-07T19:39:09.205154",
     "status": "completed"
    },
    "tags": []
   },
   "source": [
    "### **Function that will tell you which specific material is suitable according to your input**"
   ]
  },
  {
   "cell_type": "code",
   "execution_count": 22,
   "id": "4bb148a5",
   "metadata": {
    "execution": {
     "iopub.execute_input": "2025-02-07T19:39:09.229742Z",
     "iopub.status.busy": "2025-02-07T19:39:09.229321Z",
     "iopub.status.idle": "2025-02-07T19:39:09.236117Z",
     "shell.execute_reply": "2025-02-07T19:39:09.234898Z"
    },
    "papermill": {
     "duration": 0.017217,
     "end_time": "2025-02-07T19:39:09.237650",
     "exception": false,
     "start_time": "2025-02-07T19:39:09.220433",
     "status": "completed"
    },
    "tags": []
   },
   "outputs": [],
   "source": [
    "def material_recommend_for_selection(input_values):\n",
    "    inp=pd.DataFrame([input_values])\n",
    "    out=gbc.predict(inp)\n",
    "    if out[0]==0:\n",
    "        return \"No material sutable for selection\"\n",
    "    else:\n",
    "        filtered_df = material_df[\n",
    "        (material_df['Su'] <= input_values['Su']) & (input_values['Su'] <= material_df['Su'])  &\n",
    "        (material_df['Sy'] <= input_values['Sy']) & (input_values['Sy'] <= material_df['Sy']) &\n",
    "        (material_df['E'] <= input_values['E']) & (input_values['E'] <= material_df['E']) &\n",
    "        (material_df['G'] <= input_values['G']) & (input_values['G'] <= material_df['G']) &\n",
    "        (material_df['mu']<= input_values['mu']) & (input_values['mu'] <= material_df['mu']) &\n",
    "        (material_df['Ro'] <= input_values['Ro']) & (input_values['Ro'] <= material_df['Ro'])\n",
    "           ]\n",
    "        m=list(filtered_df[filtered_df['Use']==True]['Material'].unique())\n",
    "        return f\"thsese material is suitable for selection  - {m}\""
   ]
  },
  {
   "cell_type": "markdown",
   "id": "fa5fe6dd",
   "metadata": {
    "papermill": {
     "duration": 0.00739,
     "end_time": "2025-02-07T19:39:09.252995",
     "exception": false,
     "start_time": "2025-02-07T19:39:09.245605",
     "status": "completed"
    },
    "tags": []
   },
   "source": [
    "lets check with an example"
   ]
  },
  {
   "cell_type": "code",
   "execution_count": 23,
   "id": "cc4adcd5",
   "metadata": {
    "execution": {
     "iopub.execute_input": "2025-02-07T19:39:09.269300Z",
     "iopub.status.busy": "2025-02-07T19:39:09.268976Z",
     "iopub.status.idle": "2025-02-07T19:39:09.273964Z",
     "shell.execute_reply": "2025-02-07T19:39:09.272420Z"
    },
    "papermill": {
     "duration": 0.015609,
     "end_time": "2025-02-07T19:39:09.276159",
     "exception": false,
     "start_time": "2025-02-07T19:39:09.260550",
     "status": "completed"
    },
    "tags": []
   },
   "outputs": [],
   "source": [
    "# we are giving  input mechanical properties here\n",
    "mech_prop={'Su': 450.0,\n",
    " 'Sy': 275.0,\n",
    " 'E': 198000.0,\n",
    " 'G': 77000.0,\n",
    " 'mu': 0.29,\n",
    " 'Ro': 7820.0}"
   ]
  },
  {
   "cell_type": "code",
   "execution_count": 24,
   "id": "93924c1f",
   "metadata": {
    "execution": {
     "iopub.execute_input": "2025-02-07T19:39:09.293271Z",
     "iopub.status.busy": "2025-02-07T19:39:09.292931Z",
     "iopub.status.idle": "2025-02-07T19:39:09.306626Z",
     "shell.execute_reply": "2025-02-07T19:39:09.305416Z"
    },
    "papermill": {
     "duration": 0.024141,
     "end_time": "2025-02-07T19:39:09.308421",
     "exception": false,
     "start_time": "2025-02-07T19:39:09.284280",
     "status": "completed"
    },
    "tags": []
   },
   "outputs": [
    {
     "data": {
      "text/plain": [
       "\"thsese material is suitable for selection  - ['GOST Steel 25 GOST 1050-88 normalized']\""
      ]
     },
     "execution_count": 24,
     "metadata": {},
     "output_type": "execute_result"
    }
   ],
   "source": [
    "material_recommend_for_selection(input_values=mech_prop)"
   ]
  },
  {
   "cell_type": "code",
   "execution_count": null,
   "id": "ab4342b2",
   "metadata": {
    "papermill": {
     "duration": 0.007682,
     "end_time": "2025-02-07T19:39:09.324194",
     "exception": false,
     "start_time": "2025-02-07T19:39:09.316512",
     "status": "completed"
    },
    "tags": []
   },
   "outputs": [],
   "source": []
  }
 ],
 "metadata": {
  "kaggle": {
   "accelerator": "none",
   "dataSources": [
    {
     "datasetId": 3113294,
     "sourceId": 5411884,
     "sourceType": "datasetVersion"
    }
   ],
   "dockerImageVersionId": 30886,
   "isGpuEnabled": false,
   "isInternetEnabled": true,
   "language": "python",
   "sourceType": "notebook"
  },
  "kernelspec": {
   "display_name": "Python 3",
   "language": "python",
   "name": "python3"
  },
  "language_info": {
   "codemirror_mode": {
    "name": "ipython",
    "version": 3
   },
   "file_extension": ".py",
   "mimetype": "text/x-python",
   "name": "python",
   "nbconvert_exporter": "python",
   "pygments_lexer": "ipython3",
   "version": "3.10.12"
  },
  "papermill": {
   "default_parameters": {},
   "duration": 9.127594,
   "end_time": "2025-02-07T19:39:10.053420",
   "environment_variables": {},
   "exception": null,
   "input_path": "__notebook__.ipynb",
   "output_path": "__notebook__.ipynb",
   "parameters": {},
   "start_time": "2025-02-07T19:39:00.925826",
   "version": "2.6.0"
  }
 },
 "nbformat": 4,
 "nbformat_minor": 5
}
